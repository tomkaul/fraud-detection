{
 "cells": [
  {
   "cell_type": "markdown",
   "metadata": {
    "colab_type": "text",
    "id": "5CMpcKLxSXUN"
   },
   "source": [
    "# Fraud detection - Transactions\n",
    "\n",
    "## Tasks\n",
    "- Explore and visualize dataset\n",
    "- Prepare dataset for fitting\n",
    "- Configure regression model\n",
    "- Fit model\n",
    "- Evaluate model\n",
    "\n"
   ]
  },
  {
   "cell_type": "code",
   "execution_count": 1,
   "metadata": {
    "colab": {},
    "colab_type": "code",
    "id": "rMoOr32MSXFj"
   },
   "outputs": [],
   "source": [
    "import numpy as np\n",
    "import sklearn as sk\n",
    "import pandas as pd\n",
    "import matplotlib.pyplot as plt\n",
    "from sklearn.preprocessing import StandardScaler, LabelEncoder\n",
    "from sklearn import linear_model\n",
    "from sklearn.metrics import classification_report\n",
    "from sklearn.model_selection import train_test_split\n",
    "import random\n",
    "import seaborn as sns"
   ]
  },
  {
   "cell_type": "code",
   "execution_count": 2,
   "metadata": {
    "colab": {
     "base_uri": "https://localhost:8080/",
     "height": 224
    },
    "colab_type": "code",
    "id": "2HSD7PBvSV48",
    "outputId": "c8ac2df2-7308-4906-d870-aab979bf28d5"
   },
   "outputs": [],
   "source": [
    "# dfs = pd.read_csv('sample_submission.csv', low_memory=False, index_col='TransactionID')\n",
    "# print(dfs.shape)"
   ]
  },
  {
   "cell_type": "code",
   "execution_count": 3,
   "metadata": {},
   "outputs": [
    {
     "name": "stdout",
     "output_type": "stream",
     "text": [
      "Loading data...\n",
      "Shape of train_identity.csv: (144233, 40)\n",
      "Shape of test_identity.csv: (141907, 40)\n",
      "Too many NAN's in train:  ['id_03', 'id_04', 'id_07', 'id_08', 'id_09', 'id_10', 'id_14', 'id_18', 'id_21', 'id_22', 'id_23', 'id_24', 'id_25', 'id_26', 'id_27', 'id_30', 'id_32', 'id_33', 'id_34']\n",
      "Shape of train data: (144233, 21)\n",
      "Shape of test data: (141907, 21)\n",
      "Loading data...\n",
      "Shape of train_transaction.csv: (590540, 393)\n",
      "Shape of test_transaction.csv: (506691, 392)\n",
      "Too many NAN's in train:  ['dist1', 'dist2', 'R_emaildomain', 'D2', 'D3', 'D4', 'D5', 'D6', 'D7', 'D8', 'D9', 'D11', 'D12', 'D13', 'D14', 'M1', 'M2', 'M3', 'M4', 'M5', 'M6', 'M7', 'M8', 'M9', 'V1', 'V2', 'V3', 'V4', 'V5', 'V6', 'V7', 'V8', 'V9', 'V10', 'V11', 'V35', 'V36', 'V37', 'V38', 'V39', 'V40', 'V41', 'V42', 'V43', 'V44', 'V45', 'V46', 'V47', 'V48', 'V49', 'V50', 'V51', 'V52', 'V138', 'V139', 'V140', 'V141', 'V142', 'V143', 'V144', 'V145', 'V146', 'V147', 'V148', 'V149', 'V150', 'V151', 'V152', 'V153', 'V154', 'V155', 'V156', 'V157', 'V158', 'V159', 'V160', 'V161', 'V162', 'V163', 'V164', 'V165', 'V166', 'V167', 'V168', 'V169', 'V170', 'V171', 'V172', 'V173', 'V174', 'V175', 'V176', 'V177', 'V178', 'V179', 'V180', 'V181', 'V182', 'V183', 'V184', 'V185', 'V186', 'V187', 'V188', 'V189', 'V190', 'V191', 'V192', 'V193', 'V194', 'V195', 'V196', 'V197', 'V198', 'V199', 'V200', 'V201', 'V202', 'V203', 'V204', 'V205', 'V206', 'V207', 'V208', 'V209', 'V210', 'V211', 'V212', 'V213', 'V214', 'V215', 'V216', 'V217', 'V218', 'V219', 'V220', 'V221', 'V222', 'V223', 'V224', 'V225', 'V226', 'V227', 'V228', 'V229', 'V230', 'V231', 'V232', 'V233', 'V234', 'V235', 'V236', 'V237', 'V238', 'V239', 'V240', 'V241', 'V242', 'V243', 'V244', 'V245', 'V246', 'V247', 'V248', 'V249', 'V250', 'V251', 'V252', 'V253', 'V254', 'V255', 'V256', 'V257', 'V258', 'V259', 'V260', 'V261', 'V262', 'V263', 'V264', 'V265', 'V266', 'V267', 'V268', 'V269', 'V270', 'V271', 'V272', 'V273', 'V274', 'V275', 'V276', 'V277', 'V278', 'V322', 'V323', 'V324', 'V325', 'V326', 'V327', 'V328', 'V329', 'V330', 'V331', 'V332', 'V333', 'V334', 'V335', 'V336', 'V337', 'V338', 'V339']\n",
      "Shape of train data: (590540, 181)\n",
      "Shape of test data: (506691, 180)\n"
     ]
    }
   ],
   "source": [
    "# Load data\n",
    "def load_data(file_train, file_test):\n",
    "    print('Loading data...')\n",
    "    df_train = pd.read_csv(file_train, low_memory=False, index_col='TransactionID')\n",
    "    print(f'Shape of {file_train}: {df_train.shape}')\n",
    "    df_test = pd.read_csv(file_test, low_memory=False, index_col='TransactionID')\n",
    "    print(f'Shape of {file_test}: {df_test.shape}')\n",
    "    return df_train, df_test\n",
    "\n",
    "# Clean data\n",
    "def clean_data(df_train, df_test, plim=0.20):\n",
    "    # Remove coloums with more than plim (default 20%) invalid values\n",
    "    col = [x for x in df_train.columns if df_train[x].isna().sum() > int(df_train.shape[0]*plim)]\n",
    "    print(\"Too many NAN's in train: \", col)\n",
    "    df_train.drop(col, axis=1, inplace=True)\n",
    "    df_test.drop(col, axis=1, inplace=True)\n",
    "    col = [x for x in df_test.columns if df_test[x].isna().sum() > int(df_test.shape[0]*plim)]\n",
    "    if len(col) > 0:\n",
    "        print(\"Too many NAN's in test: \", col)\n",
    "        df_train.drop(col, axis=1, inplace=True)\n",
    "        df_test.drop(col, axis=1, inplace=True)\n",
    "    print(f'Shape of train data: {df_train.shape}')\n",
    "    print(f'Shape of test data: {df_test.shape}')\n",
    "\n",
    "# Preprocess data\n",
    "df_id_tr, df_id_te = load_data('train_identity.csv', 'test_identity.csv')\n",
    "clean_data(df_id_tr, df_id_te)\n",
    "df_ta_tr, df_ta_te = load_data('train_transaction.csv', 'test_transaction.csv')\n",
    "clean_data(df_ta_tr, df_ta_te)"
   ]
  },
  {
   "cell_type": "code",
   "execution_count": 4,
   "metadata": {},
   "outputs": [
    {
     "name": "stdout",
     "output_type": "stream",
     "text": [
      "Combine 1 (590540, 180)\n",
      "Combine 2 (144233, 21)\n",
      "Combined (590540, 201)\n",
      "Combine 1 (506691, 180)\n",
      "Combine 2 (141907, 21)\n",
      "Combined (506691, 201)\n",
      "Concat train (590540, 201)\n",
      "Concat test (506691, 201)\n",
      "Concat data (1097231, 201)\n"
     ]
    }
   ],
   "source": [
    "# Function for combining and splitting train and test data\n",
    "def concat_data(df_train, df_test):\n",
    "    # Concat the 2 datasets\n",
    "    print(\"Concat train\", df_train.shape)\n",
    "    print(\"Concat test\", df_test.shape)\n",
    "    split = df_train.shape[0]\n",
    "    dfc = pd.concat([df_train, df_test])\n",
    "    print(\"Concat data\", dfc.shape)\n",
    "    return dfc, split\n",
    "\n",
    "def split_data(dfc, split):\n",
    "    print(\"Split data\", dfc.shape)\n",
    "    df_train = dfc[0:split]\n",
    "    df_test = dfc[split:]\n",
    "    print(\"Split train\", df_train.shape)\n",
    "    print(\"Split test\", df_test.shape)\n",
    "    return df_train, df_test\n",
    "\n",
    "def combine_data(df1, df2):\n",
    "    # Combine the 2 datasets\n",
    "    print(\"Combine 1\", df1.shape)\n",
    "    print(\"Combine 2\", df2.shape)\n",
    "    # dfc = pd.concat([df1, df2], axis=1, 'sort=False')\n",
    "    dfc = pd.merge(df1, df2, left_index=True, right_index=True, how='outer')\n",
    "    print(\"Combined\", dfc.shape)\n",
    "    return dfc\n",
    "\n",
    "# Get the label data\n",
    "if 'isFraud' in df_ta_tr.columns:\n",
    "    y = df_ta_tr.pop('isFraud')\n",
    "# Combine data and prepare for label encoding and scaling\n",
    "df_train = combine_data(df_ta_tr, df_id_tr)\n",
    "df_test = combine_data(df_ta_te, df_id_te)\n",
    "# df_id, split_id = concat_data(df_id_tr, df_id_te)\n",
    "# dx_tr, dx_te = split_data(df_id, split_id)\n",
    "# # dx_tr.equals(df_id_tr)\n",
    "# # dx_te.equals(df_id_te)\n",
    "# One big data set, train/test index is set by split\n",
    "df_all, split = concat_data(df_train, df_test)"
   ]
  },
  {
   "cell_type": "code",
   "execution_count": 5,
   "metadata": {},
   "outputs": [
    {
     "name": "stdout",
     "output_type": "stream",
     "text": [
      "              ProductCD       card4   card6 P_emaildomain     id_12 id_15  \\\n",
      "TransactionID                                                               \n",
      "2987000               W    discover  credit           NaN       NaN   NaN   \n",
      "2987001               W  mastercard  credit     gmail.com       NaN   NaN   \n",
      "2987002               W        visa   debit   outlook.com       NaN   NaN   \n",
      "2987003               W  mastercard   debit     yahoo.com       NaN   NaN   \n",
      "2987004               H  mastercard  credit     gmail.com  NotFound   New   \n",
      "\n",
      "                  id_16 id_28     id_29                id_31 id_35 id_36  \\\n",
      "TransactionID                                                              \n",
      "2987000             NaN   NaN       NaN                  NaN   NaN   NaN   \n",
      "2987001             NaN   NaN       NaN                  NaN   NaN   NaN   \n",
      "2987002             NaN   NaN       NaN                  NaN   NaN   NaN   \n",
      "2987003             NaN   NaN       NaN                  NaN   NaN   NaN   \n",
      "2987004        NotFound   New  NotFound  samsung browser 6.2     T     F   \n",
      "\n",
      "              id_37 id_38 DeviceType                     DeviceInfo  \n",
      "TransactionID                                                        \n",
      "2987000         NaN   NaN        NaN                            NaN  \n",
      "2987001         NaN   NaN        NaN                            NaN  \n",
      "2987002         NaN   NaN        NaN                            NaN  \n",
      "2987003         NaN   NaN        NaN                            NaN  \n",
      "2987004           T     T     mobile  SAMSUNG SM-G892A Build/NRD90M  \n",
      "               ProductCD  card4  card6  P_emaildomain  id_12  id_15  id_16  \\\n",
      "TransactionID                                                                \n",
      "2987000                4      1      1             32      2      3      2   \n",
      "2987001                4      2      1             16      2      3      2   \n",
      "2987002                4      4      2             36      2      3      2   \n",
      "2987003                4      2      2             55      2      3      2   \n",
      "2987004                1      2      1             16      1      1      1   \n",
      "\n",
      "               id_28  id_29  id_31  id_35  id_36  id_37  id_38  DeviceType  \\\n",
      "TransactionID                                                                \n",
      "2987000            2      2    136      2      2      2      2           2   \n",
      "2987001            2      2    136      2      2      2      2           2   \n",
      "2987002            2      2    136      2      2      2      2           2   \n",
      "2987003            2      2    136      2      2      2      2           2   \n",
      "2987004            1      1    162      1      0      1      1           1   \n",
      "\n",
      "               DeviceInfo  \n",
      "TransactionID              \n",
      "2987000              2740  \n",
      "2987001              2740  \n",
      "2987002              2740  \n",
      "2987003              2740  \n",
      "2987004              1565  \n"
     ]
    }
   ],
   "source": [
    "# Encode string type data\n",
    "def encode_data(df):\n",
    "    # See https://chrisalbon.com/machine_learning/preprocessing_structured_data/convert_pandas_categorical_column_into_integers_for_scikit-learn/\n",
    "    scols = df.select_dtypes(include='object').columns\n",
    "    if len(scols) > 0:\n",
    "        # Create a label (category) encoder object\n",
    "        le = LabelEncoder()\n",
    "        print(df[scols].head())\n",
    "        for col in scols:\n",
    "            df[col] = le.fit_transform(list(df[col]))\n",
    "        print(df[scols].head())\n",
    "\n",
    "encode_data(df_all)"
   ]
  },
  {
   "cell_type": "code",
   "execution_count": 6,
   "metadata": {},
   "outputs": [],
   "source": [
    "# Check for NaN\n",
    "df_all.fillna(-10000.0, inplace=True)"
   ]
  },
  {
   "cell_type": "code",
   "execution_count": 7,
   "metadata": {
    "colab": {},
    "colab_type": "code",
    "id": "OFZD2Rhman0O"
   },
   "outputs": [
    {
     "name": "stdout",
     "output_type": "stream",
     "text": [
      "Split data (1097231, 201)\n",
      "Split train (590540, 201)\n",
      "Split test (506691, 201)\n",
      "y shape: (590540,)\n",
      "X_train shape: (501959, 201)\n",
      "X_test shape: (88581, 201)\n",
      "y_train shape: (501959,)\n",
      "y_test shape: (88581,)\n"
     ]
    }
   ],
   "source": [
    "# Split data for scale and fit\n",
    "d_regression_data, d_predict = split_data(df_all, split)\n",
    "X_train, X_test, y_train, y_test = train_test_split(d_regression_data, y, test_size = 0.15)\n",
    "X_predict = np.array(d_predict)\n",
    "# Check shape of data\n",
    "print(\"y shape:\", y.shape)\n",
    "print(\"X_train shape:\", X_train.shape)\n",
    "print(\"X_test shape:\", X_test.shape)\n",
    "print(\"y_train shape:\", y_train.shape)\n",
    "print(\"y_test shape:\", y_test.shape)"
   ]
  },
  {
   "cell_type": "code",
   "execution_count": 8,
   "metadata": {
    "colab": {},
    "colab_type": "code",
    "id": "ZTdwEGlKnGVM"
   },
   "outputs": [],
   "source": [
    "# Scale\n",
    "scaler = StandardScaler()\n",
    "scaler.fit(X_train)  \n",
    "X_train = scaler.transform(X_train)  \n",
    "X_test = scaler.transform(X_test)"
   ]
  },
  {
   "cell_type": "code",
   "execution_count": 9,
   "metadata": {
    "colab": {
     "base_uri": "https://localhost:8080/",
     "height": 68
    },
    "colab_type": "code",
    "id": "-ci9pGg8bWwg",
    "outputId": "e3d3012e-d82b-4651-b99f-3b879c20ba11"
   },
   "outputs": [
    {
     "name": "stderr",
     "output_type": "stream",
     "text": [
      "C:\\Users\\thka\\AppData\\Local\\Continuum\\miniconda3\\envs\\py36\\lib\\site-packages\\sklearn\\linear_model\\logistic.py:947: ConvergenceWarning: lbfgs failed to converge. Increase the number of iterations.\n",
      "  \"of iterations.\", ConvergenceWarning)\n"
     ]
    },
    {
     "name": "stdout",
     "output_type": "stream",
     "text": [
      "Score: 0.9660\n"
     ]
    }
   ],
   "source": [
    "logistic = linear_model.LogisticRegression(C=1e5, solver='lbfgs')\n",
    "logistic.fit(X_train, y_train)\n",
    "print(f'Score: {logistic.score(X_test, y_test):.4f}')"
   ]
  },
  {
   "cell_type": "markdown",
   "metadata": {},
   "source": [
    "Postanalyze data"
   ]
  },
  {
   "cell_type": "code",
   "execution_count": 10,
   "metadata": {
    "colab": {
     "base_uri": "https://localhost:8080/",
     "height": 187
    },
    "colab_type": "code",
    "id": "UN4nSqYLby-G",
    "outputId": "295b4538-8f07-447a-a052-e727b8cbf2bc"
   },
   "outputs": [
    {
     "name": "stdout",
     "output_type": "stream",
     "text": [
      "              precision    recall  f1-score   support\n",
      "\n",
      "           0       0.97      1.00      0.98     85477\n",
      "           1       0.70      0.05      0.10      3104\n",
      "\n",
      "    accuracy                           0.97     88581\n",
      "   macro avg       0.83      0.53      0.54     88581\n",
      "weighted avg       0.96      0.97      0.95     88581\n",
      "\n"
     ]
    }
   ],
   "source": [
    "y_predicted = np.array(logistic.predict(X_test))\n",
    "print(classification_report(y_test, y_predicted))"
   ]
  },
  {
   "cell_type": "code",
   "execution_count": 11,
   "metadata": {},
   "outputs": [
    {
     "data": {
      "text/plain": [
       "DeviceInfo  DeviceInfo    1.000000e+00\n",
       "V126        V126          1.000000e+00\n",
       "V128        V128          1.000000e+00\n",
       "V129        V129          1.000000e+00\n",
       "V130        V130          1.000000e+00\n",
       "                              ...     \n",
       "V91         C6            8.893486e-07\n",
       "C13         V291          3.777051e-07\n",
       "V291        C13           3.777051e-07\n",
       "C3          V290          3.564225e-07\n",
       "V290        C3            3.564225e-07\n",
       "Length: 40401, dtype: float64"
      ]
     },
     "execution_count": 11,
     "metadata": {},
     "output_type": "execute_result"
    }
   ],
   "source": [
    "corr = df_all.corr()\n",
    "c1 = corr.abs().unstack()\n",
    "c1.sort_values(ascending = False)"
   ]
  },
  {
   "cell_type": "code",
   "execution_count": 15,
   "metadata": {},
   "outputs": [
    {
     "name": "stdout",
     "output_type": "stream",
     "text": [
      "              ProductCD       card4   card6 P_emaildomain     id_12 id_15  \\\n",
      "TransactionID                                                               \n",
      "2987000               W    discover  credit           NaN       NaN   NaN   \n",
      "2987001               W  mastercard  credit     gmail.com       NaN   NaN   \n",
      "2987002               W        visa   debit   outlook.com       NaN   NaN   \n",
      "2987003               W  mastercard   debit     yahoo.com       NaN   NaN   \n",
      "2987004               H  mastercard  credit     gmail.com  NotFound   New   \n",
      "\n",
      "                  id_16 id_28     id_29                id_31 id_35 id_36  \\\n",
      "TransactionID                                                              \n",
      "2987000             NaN   NaN       NaN                  NaN   NaN   NaN   \n",
      "2987001             NaN   NaN       NaN                  NaN   NaN   NaN   \n",
      "2987002             NaN   NaN       NaN                  NaN   NaN   NaN   \n",
      "2987003             NaN   NaN       NaN                  NaN   NaN   NaN   \n",
      "2987004        NotFound   New  NotFound  samsung browser 6.2     T     F   \n",
      "\n",
      "              id_37 id_38 DeviceType                     DeviceInfo  \n",
      "TransactionID                                                        \n",
      "2987000         NaN   NaN        NaN                            NaN  \n",
      "2987001         NaN   NaN        NaN                            NaN  \n",
      "2987002         NaN   NaN        NaN                            NaN  \n",
      "2987003         NaN   NaN        NaN                            NaN  \n",
      "2987004           T     T     mobile  SAMSUNG SM-G892A Build/NRD90M  \n",
      "               ProductCD  card4  card6  P_emaildomain  id_12  id_15  id_16  \\\n",
      "TransactionID                                                                \n",
      "2987000                4      1      1             32      2      3      2   \n",
      "2987001                4      2      1             16      2      3      2   \n",
      "2987002                4      4      2             36      2      3      2   \n",
      "2987003                4      2      2             54      2      3      2   \n",
      "2987004                1      2      1             16      1      1      1   \n",
      "\n",
      "               id_28  id_29  id_31  id_35  id_36  id_37  id_38  DeviceType  \\\n",
      "TransactionID                                                                \n",
      "2987000            2      2    103      2      2      2      2           2   \n",
      "2987001            2      2    103      2      2      2      2           2   \n",
      "2987002            2      2    103      2      2      2      2           2   \n",
      "2987003            2      2    103      2      2      2      2           2   \n",
      "2987004            1      1    124      1      0      1      1           1   \n",
      "\n",
      "               DeviceInfo  \n",
      "TransactionID              \n",
      "2987000              1742  \n",
      "2987001              1742  \n",
      "2987002              1742  \n",
      "2987003              1742  \n",
      "2987004               954  \n",
      "               TransactionDT  TransactionAmt  ProductCD  card1  card2  card3  \\\n",
      "TransactionID                                                                  \n",
      "3577535             15811047           49.00          4   6550    NaN  150.0   \n",
      "3577536             15811049           39.50          4  10444  225.0  150.0   \n",
      "3577537             15811079           30.95          4  12037  595.0  150.0   \n",
      "3577538             15811088          117.00          4   7826  481.0  150.0   \n",
      "3577539             15811131          279.95          4  15066  170.0  150.0   \n",
      "\n",
      "               card4  card5  card6  addr1  ...  id_20  id_28  id_29  id_31  \\\n",
      "TransactionID                              ...                               \n",
      "3577535            4  226.0      2  272.0  ...    NaN      2      2    103   \n",
      "3577536            2  224.0      2  204.0  ...    NaN      2      2    103   \n",
      "3577537            2  224.0      2  231.0  ...    NaN      2      2    103   \n",
      "3577538            2  224.0      2  387.0  ...    NaN      2      2    103   \n",
      "3577539            2  102.0      1  299.0  ...    NaN      2      2    103   \n",
      "\n",
      "               id_35  id_36  id_37  id_38  DeviceType  DeviceInfo  \n",
      "TransactionID                                                      \n",
      "3577535            2      2      2      2           2        1742  \n",
      "3577536            2      2      2      2           2        1742  \n",
      "3577537            2      2      2      2           2        1742  \n",
      "3577538            2      2      2      2           2        1742  \n",
      "3577539            2      2      2      2           2        1742  \n",
      "\n",
      "[5 rows x 201 columns]\n",
      "-0.013639969873036532\n"
     ]
    }
   ],
   "source": [
    "dff = df_train\n",
    "encode_data(dff)"
   ]
  },
  {
   "cell_type": "code",
   "execution_count": 20,
   "metadata": {},
   "outputs": [],
   "source": [
    "c = []\n",
    "for col in dff.columns:\n",
    "    c.append((col, y.corr(dff[col])))"
   ]
  },
  {
   "cell_type": "code",
   "execution_count": 21,
   "metadata": {},
   "outputs": [
    {
     "data": {
      "text/plain": [
       "[('id_35', -0.16423560147873442),\n",
       " ('ProductCD', -0.15655631946488938),\n",
       " ('id_29', -0.15193990232809423),\n",
       " ('id_28', -0.15063963829649663),\n",
       " ('id_38', -0.14512405669762926),\n",
       " ('id_16', -0.14372554651161404),\n",
       " ('id_15', -0.1437252919441313),\n",
       " ('id_36', -0.13823420095349753),\n",
       " ('id_31', -0.12667390040947538),\n",
       " ('id_01', -0.12009888526804516),\n",
       " ('id_37', -0.11993917823419745),\n",
       " ('id_12', -0.11979397642973336),\n",
       " ('DeviceType', -0.11269773549259852),\n",
       " ('V90', -0.11016802850924881),\n",
       " ('V29', -0.10785177266358283),\n",
       " ('V91', -0.10545301705361108),\n",
       " ('V69', -0.10452063087877916),\n",
       " ('V30', -0.10308792418959097),\n",
       " ('V70', -0.10089993699583416),\n",
       " ('card6', -0.09776012890324368),\n",
       " ('D15', -0.07751940067231518),\n",
       " ('DeviceInfo', -0.07597517156280516),\n",
       " ('D10', -0.07200190861826179),\n",
       " ('D1', -0.06719305903571009),\n",
       " ('V12', -0.05240600917509208),\n",
       " ('V75', -0.0521711184010783),\n",
       " ('V53', -0.04739953943952132),\n",
       " ('V76', -0.046418882854050283),\n",
       " ('V13', -0.04570627083804594),\n",
       " ('id_19', -0.04172142105791844),\n",
       " ('V54', -0.03702524794065677),\n",
       " ('card5', -0.03357955581230888),\n",
       " ('C9', -0.03170341586419452),\n",
       " ('C5', -0.030753966713252524),\n",
       " ('addr2', -0.030387147315389045),\n",
       " ('id_06', -0.027139434813318986),\n",
       " ('P_emaildomain', -0.024056029210028647),\n",
       " ('id_13', -0.01953802795774273),\n",
       " ('card1', -0.013639969873036532),\n",
       " ('V99', -0.013178826745814042),\n",
       " ('C13', -0.011145752229048518),\n",
       " ('V285', -0.009127666684282849),\n",
       " ('id_05', -0.007978411819556988),\n",
       " ('C3', -0.0068331738266534485),\n",
       " ('V96', -0.005484463663540018),\n",
       " ('V89', -0.00518774184771841),\n",
       " ('V103', -0.005120718920326609),\n",
       " ('V27', -0.0049794006356908916),\n",
       " ('V28', -0.0048946025805188835),\n",
       " ('V102', -0.004847621793155792),\n",
       " ('V101', -0.004712109985836299),\n",
       " ('V293', -0.004500804251332977),\n",
       " ('V97', -0.004490564812846218),\n",
       " ('V132', -0.004263114526567011),\n",
       " ('V95', -0.004119681936687067),\n",
       " ('V68', -0.004048085843797547),\n",
       " ('V279', -0.0037511494423915293),\n",
       " ('V126', -0.003545573141569601),\n",
       " ('V134', -0.0035119018302775997),\n",
       " ('card4', -0.003297580284695842),\n",
       " ('V105', -0.0032292854695566207),\n",
       " ('V133', -0.0031653122963087622),\n",
       " ('V316', -0.002960280683266347),\n",
       " ('V127', -0.0026286431395885716),\n",
       " ('V106', -0.002091194706931517),\n",
       " ('V128', -0.0019302533744434036),\n",
       " ('V306', -0.0018631493144339389),\n",
       " ('V295', -0.0016814534685521234),\n",
       " ('V280', -0.0007821870848120211),\n",
       " ('V305', -0.0004955644383045788),\n",
       " ('V299', -0.00030766221850369923),\n",
       " ('V135', -0.0002762632980662437),\n",
       " ('V137', -0.00011479958381914991),\n",
       " ('V136', -4.225181584505462e-05),\n",
       " ('V319', 6.0759885426414275e-05),\n",
       " ('V88', 0.0005535873250202278),\n",
       " ('V318', 0.0009971344286091293),\n",
       " ('V298', 0.00129423670070474),\n",
       " ('V311', 0.0013001555716180939),\n",
       " ('V321', 0.0016771114354833677),\n",
       " ('V14', 0.002145403442581826),\n",
       " ('V297', 0.0025295930881368517),\n",
       " ('V107', 0.0025535525264306436),\n",
       " ('V65', 0.0027009818428815197),\n",
       " ('V130', 0.0030759775320368956),\n",
       " ('V308', 0.003253279379157375),\n",
       " ('card2', 0.00338787917827069),\n",
       " ('V104', 0.003484721076402914),\n",
       " ('V25', 0.003826492963842668),\n",
       " ('V296', 0.004160508556702404),\n",
       " ('V294', 0.004240504340936051),\n",
       " ('V286', 0.004408655244828698),\n",
       " ('V320', 0.004960880975737558),\n",
       " ('V317', 0.0050097599163735984),\n",
       " ('addr1', 0.005595762757557442),\n",
       " ('V307', 0.005948114008690784),\n",
       " ('id_11', 0.007914420181420172),\n",
       " ('C14', 0.007920558690608027),\n",
       " ('V310', 0.011071035212630927),\n",
       " ('V100', 0.011286225991512603),\n",
       " ('TransactionAmt', 0.011319825333215114),\n",
       " ('V121', 0.012329530754584827),\n",
       " ('V129', 0.012730588175913342),\n",
       " ('TransactionDT', 0.013103054993050102),\n",
       " ('V26', 0.015929046145122142),\n",
       " ('V122', 0.018712046864416725),\n",
       " ('V120', 0.019678120763391923),\n",
       " ('V309', 0.02025580729981639),\n",
       " ('V287', 0.020416840379746226),\n",
       " ('V291', 0.02044059791217112),\n",
       " ('C6', 0.020908983553784347),\n",
       " ('V131', 0.02497467727371108),\n",
       " ('V300', 0.02531666071227983),\n",
       " ('V292', 0.0267785001594335),\n",
       " ('V98', 0.027317813001375757),\n",
       " ('C11', 0.027483734598875872),\n",
       " ('C7', 0.028160291640635673),\n",
       " ('C10', 0.028395987456790495),\n",
       " ('C4', 0.030382136305078175),\n",
       " ('C1', 0.030569759651240487),\n",
       " ('V19', 0.03090362473299966),\n",
       " ('C12', 0.03190528171122539),\n",
       " ('V301', 0.032086561883338284),\n",
       " ('C8', 0.032138713158292614),\n",
       " ('V284', 0.035309303035050074),\n",
       " ('V288', 0.035320207874371096),\n",
       " ('C2', 0.03722893953099915),\n",
       " ('V312', 0.03757812613381644),\n",
       " ('V66', 0.03763085319301276),\n",
       " ('V314', 0.03853532780132012),\n",
       " ('V290', 0.04014893641753485),\n",
       " ('V20', 0.040341011101483366),\n",
       " ('V118', 0.04060137081855574),\n",
       " ('V313', 0.041494252909490485),\n",
       " ('V289', 0.042629211275677814),\n",
       " ('V119', 0.048134515781807594),\n",
       " ('V315', 0.04829809607725923),\n",
       " ('id_02', 0.04939787996721317),\n",
       " ('V61', 0.049412227637393835),\n",
       " ('V117', 0.04943855818274555),\n",
       " ('V55', 0.05011376566322604),\n",
       " ('V82', 0.05111466657017004),\n",
       " ('V115', 0.05710820737635122),\n",
       " ('V109', 0.06099400106650358),\n",
       " ('V56', 0.06135614794276982),\n",
       " ('id_20', 0.061596513428231074),\n",
       " ('V83', 0.06915472593125402),\n",
       " ('V62', 0.07239883344940601),\n",
       " ('V281', 0.07262721128139982),\n",
       " ('V67', 0.07619396234756891),\n",
       " ('V124', 0.07672122015707378),\n",
       " ('V116', 0.08064377871984121),\n",
       " ('V110', 0.08162973964551995),\n",
       " ('V114', 0.09608600001674403),\n",
       " ('V108', 0.09679437359914053),\n",
       " ('V282', 0.10412294409398651),\n",
       " ('V112', 0.10521209993223742),\n",
       " ('V125', 0.11199901952861847),\n",
       " ('V283', 0.11273124389390037),\n",
       " ('V113', 0.11597582692795362),\n",
       " ('V111', 0.12160956073760146),\n",
       " ('V24', 0.1238243031733887),\n",
       " ('V303', 0.12428666375044142),\n",
       " ('V304', 0.13149791827621873),\n",
       " ('V302', 0.13290347239519212),\n",
       " ('V123', 0.13822165473301293),\n",
       " ('V23', 0.14940777371533198),\n",
       " ('id_17', 0.15010045992494278),\n",
       " ('V64', 0.15037073026785586),\n",
       " ('V78', 0.15042457212509155),\n",
       " ('V60', 0.1509517776374231),\n",
       " ('V59', 0.15106152341152726),\n",
       " ('V63', 0.1533527166867013),\n",
       " ('card3', 0.15415133308432816),\n",
       " ('V71', 0.1568404383102941),\n",
       " ('V77', 0.1583812099092198),\n",
       " ('V22', 0.1588144833743158),\n",
       " ('V32', 0.16019713121106857),\n",
       " ('V72', 0.1609509355736062),\n",
       " ('V31', 0.1631664822385675),\n",
       " ('V21', 0.16598476139524904),\n",
       " ('V85', 0.1688398694125067),\n",
       " ('V57', 0.16888690850682544),\n",
       " ('V84', 0.16911015898483736),\n",
       " ('V58', 0.17306531089992763),\n",
       " ('V73', 0.1738700646505182),\n",
       " ('V16', 0.17431823036773775),\n",
       " ('V15', 0.17796304981317546),\n",
       " ('V80', 0.18029947217066497),\n",
       " ('V34', 0.18030059415433577),\n",
       " ('V92', 0.18051313293680926),\n",
       " ('V93', 0.18098315664200393),\n",
       " ('V81', 0.1823772343044487),\n",
       " ('V18', 0.18254989816550812),\n",
       " ('V17', 0.1826726226615453),\n",
       " ('V33', 0.18348618906163192),\n",
       " ('V74', 0.18591509316376137),\n",
       " ('V94', 0.18840709497742025),\n",
       " ('V79', 0.1941409444802305),\n",
       " ('V87', 0.25173744221271427),\n",
       " ('V86', 0.2518279864239526)]"
      ]
     },
     "execution_count": 21,
     "metadata": {},
     "output_type": "execute_result"
    }
   ],
   "source": [
    "sorted(c, key=lambda x: x[-1])"
   ]
  },
  {
   "cell_type": "code",
   "execution_count": 22,
   "metadata": {},
   "outputs": [
    {
     "name": "stdout",
     "output_type": "stream",
     "text": [
      "Combine 1 (590540, 201)\n",
      "Combine 2 (590540,)\n",
      "Combined (590540, 202)\n"
     ]
    }
   ],
   "source": [
    "dfo = combine_data(dff, y)"
   ]
  },
  {
   "cell_type": "code",
   "execution_count": 29,
   "metadata": {},
   "outputs": [
    {
     "data": {
      "text/plain": [
       "<seaborn.axisgrid.FacetGrid at 0x15b37f18eb8>"
      ]
     },
     "execution_count": 29,
     "metadata": {},
     "output_type": "execute_result"
    },
    {
     "data": {
      "image/png": "[encoded data removed]",
      "text/plain": [
       "<Figure size 360x360 with 1 Axes>"
      ]
     },
     "metadata": {
      "needs_background": "light"
     },
     "output_type": "display_data"
    }
   ],
   "source": [
    "# print(dfo['V87'])\n",
    "sns.catplot(x=\"isFraud\", y=\"V87\", kind=\"box\", order=[\"No\", \"Yes\"], data=dfo)"
   ]
  }
 ],
 "metadata": {
  "colab": {
   "collapsed_sections": [],
   "name": "Fraud-detection-creditcard.ipynb",
   "provenance": [],
   "toc_visible": true,
   "version": "0.3.2"
  },
  "kernelspec": {
   "display_name": "Python 3",
   "language": "python",
   "name": "python3"
  },
  "language_info": {
   "codemirror_mode": {
    "name": "ipython",
    "version": 3
   },
   "file_extension": ".py",
   "mimetype": "text/x-python",
   "name": "python",
   "nbconvert_exporter": "python",
   "pygments_lexer": "ipython3",
   "version": "3.6.7"
  }
 },
 "nbformat": 4,
 "nbformat_minor": 1
}
