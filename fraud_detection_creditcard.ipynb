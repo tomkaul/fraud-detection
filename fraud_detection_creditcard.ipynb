{
 "cells": [
  {
   "cell_type": "markdown",
   "metadata": {
    "colab_type": "text",
    "id": "5CMpcKLxSXUN"
   },
   "source": [
    "# Fraud detection - Creditcard data\n",
    "\n",
    "## Tasks\n",
    "- Explore and visualize dataset\n",
    "- Prepare dataset for fitting\n",
    "- Configure regression model\n",
    "- Fit model\n",
    "- Evaluate model\n",
    "\n"
   ]
  },
  {
   "cell_type": "code",
   "execution_count": 11,
   "metadata": {
    "colab": {},
    "colab_type": "code",
    "id": "rMoOr32MSXFj"
   },
   "outputs": [],
   "source": [
    "import numpy as np\n",
    "import sklearn as sk\n",
    "import pandas as pd\n",
    "import matplotlib.pyplot as plt\n",
    "from sklearn.preprocessing import StandardScaler\n",
    "import random"
   ]
  },
  {
   "cell_type": "code",
   "execution_count": 12,
   "metadata": {
    "colab": {
     "base_uri": "https://localhost:8080/",
     "height": 224
    },
    "colab_type": "code",
    "id": "2HSD7PBvSV48",
    "outputId": "c8ac2df2-7308-4906-d870-aab979bf28d5"
   },
   "outputs": [
    {
     "data": {
      "text/html": [
       "<div>\n",
       "<style scoped>\n",
       "    .dataframe tbody tr th:only-of-type {\n",
       "        vertical-align: middle;\n",
       "    }\n",
       "\n",
       "    .dataframe tbody tr th {\n",
       "        vertical-align: top;\n",
       "    }\n",
       "\n",
       "    .dataframe thead th {\n",
       "        text-align: right;\n",
       "    }\n",
       "</style>\n",
       "<table border=\"1\" class=\"dataframe\">\n",
       "  <thead>\n",
       "    <tr style=\"text-align: right;\">\n",
       "      <th></th>\n",
       "      <th>index</th>\n",
       "      <th>Time</th>\n",
       "      <th>V1</th>\n",
       "      <th>V2</th>\n",
       "      <th>V3</th>\n",
       "      <th>V4</th>\n",
       "      <th>V5</th>\n",
       "      <th>V6</th>\n",
       "      <th>V7</th>\n",
       "      <th>V8</th>\n",
       "      <th>...</th>\n",
       "      <th>V21</th>\n",
       "      <th>V22</th>\n",
       "      <th>V23</th>\n",
       "      <th>V24</th>\n",
       "      <th>V25</th>\n",
       "      <th>V26</th>\n",
       "      <th>V27</th>\n",
       "      <th>V28</th>\n",
       "      <th>Amount</th>\n",
       "      <th>Class</th>\n",
       "    </tr>\n",
       "  </thead>\n",
       "  <tbody>\n",
       "    <tr>\n",
       "      <td>0</td>\n",
       "      <td>92503</td>\n",
       "      <td>63962.0</td>\n",
       "      <td>1.289870</td>\n",
       "      <td>0.472500</td>\n",
       "      <td>-0.076236</td>\n",
       "      <td>0.995108</td>\n",
       "      <td>0.183372</td>\n",
       "      <td>-0.773264</td>\n",
       "      <td>0.429646</td>\n",
       "      <td>-0.304756</td>\n",
       "      <td>...</td>\n",
       "      <td>-0.051970</td>\n",
       "      <td>-0.062547</td>\n",
       "      <td>-0.166920</td>\n",
       "      <td>-0.095488</td>\n",
       "      <td>0.822819</td>\n",
       "      <td>-0.329745</td>\n",
       "      <td>0.008197</td>\n",
       "      <td>0.013616</td>\n",
       "      <td>5.14</td>\n",
       "      <td>0</td>\n",
       "    </tr>\n",
       "    <tr>\n",
       "      <td>1</td>\n",
       "      <td>16536</td>\n",
       "      <td>27909.0</td>\n",
       "      <td>1.151802</td>\n",
       "      <td>0.125141</td>\n",
       "      <td>-0.021887</td>\n",
       "      <td>0.582930</td>\n",
       "      <td>-0.248111</td>\n",
       "      <td>-1.226404</td>\n",
       "      <td>0.515518</td>\n",
       "      <td>-0.342157</td>\n",
       "      <td>...</td>\n",
       "      <td>-0.342473</td>\n",
       "      <td>-1.176212</td>\n",
       "      <td>0.086105</td>\n",
       "      <td>0.384531</td>\n",
       "      <td>0.262804</td>\n",
       "      <td>0.130923</td>\n",
       "      <td>-0.076693</td>\n",
       "      <td>0.021486</td>\n",
       "      <td>74.95</td>\n",
       "      <td>0</td>\n",
       "    </tr>\n",
       "    <tr>\n",
       "      <td>2</td>\n",
       "      <td>86940</td>\n",
       "      <td>61463.0</td>\n",
       "      <td>-2.853985</td>\n",
       "      <td>1.640688</td>\n",
       "      <td>1.590070</td>\n",
       "      <td>0.788876</td>\n",
       "      <td>-0.475611</td>\n",
       "      <td>0.875708</td>\n",
       "      <td>-1.104920</td>\n",
       "      <td>1.982005</td>\n",
       "      <td>...</td>\n",
       "      <td>0.291083</td>\n",
       "      <td>0.572009</td>\n",
       "      <td>-0.335678</td>\n",
       "      <td>-0.294762</td>\n",
       "      <td>0.470275</td>\n",
       "      <td>-0.077076</td>\n",
       "      <td>-0.023390</td>\n",
       "      <td>-0.131983</td>\n",
       "      <td>1.00</td>\n",
       "      <td>0</td>\n",
       "    </tr>\n",
       "    <tr>\n",
       "      <td>3</td>\n",
       "      <td>235800</td>\n",
       "      <td>148540.0</td>\n",
       "      <td>1.942234</td>\n",
       "      <td>0.536031</td>\n",
       "      <td>-1.495605</td>\n",
       "      <td>3.503854</td>\n",
       "      <td>1.196665</td>\n",
       "      <td>0.551128</td>\n",
       "      <td>0.397318</td>\n",
       "      <td>0.058905</td>\n",
       "      <td>...</td>\n",
       "      <td>-0.013020</td>\n",
       "      <td>-0.066398</td>\n",
       "      <td>0.066282</td>\n",
       "      <td>0.086308</td>\n",
       "      <td>0.232199</td>\n",
       "      <td>0.008128</td>\n",
       "      <td>-0.075824</td>\n",
       "      <td>-0.070503</td>\n",
       "      <td>11.24</td>\n",
       "      <td>0</td>\n",
       "    </tr>\n",
       "    <tr>\n",
       "      <td>4</td>\n",
       "      <td>142368</td>\n",
       "      <td>84673.0</td>\n",
       "      <td>-1.206587</td>\n",
       "      <td>1.585600</td>\n",
       "      <td>1.199424</td>\n",
       "      <td>-0.288998</td>\n",
       "      <td>0.073483</td>\n",
       "      <td>-1.010017</td>\n",
       "      <td>1.161643</td>\n",
       "      <td>-0.583568</td>\n",
       "      <td>...</td>\n",
       "      <td>-0.593887</td>\n",
       "      <td>-0.863230</td>\n",
       "      <td>-0.052314</td>\n",
       "      <td>0.262547</td>\n",
       "      <td>-0.036899</td>\n",
       "      <td>0.015596</td>\n",
       "      <td>0.260916</td>\n",
       "      <td>-0.236715</td>\n",
       "      <td>9.98</td>\n",
       "      <td>0</td>\n",
       "    </tr>\n",
       "  </tbody>\n",
       "</table>\n",
       "<p>5 rows × 32 columns</p>\n",
       "</div>"
      ],
      "text/plain": [
       "    index      Time        V1        V2        V3        V4        V5  \\\n",
       "0   92503   63962.0  1.289870  0.472500 -0.076236  0.995108  0.183372   \n",
       "1   16536   27909.0  1.151802  0.125141 -0.021887  0.582930 -0.248111   \n",
       "2   86940   61463.0 -2.853985  1.640688  1.590070  0.788876 -0.475611   \n",
       "3  235800  148540.0  1.942234  0.536031 -1.495605  3.503854  1.196665   \n",
       "4  142368   84673.0 -1.206587  1.585600  1.199424 -0.288998  0.073483   \n",
       "\n",
       "         V6        V7        V8  ...       V21       V22       V23       V24  \\\n",
       "0 -0.773264  0.429646 -0.304756  ... -0.051970 -0.062547 -0.166920 -0.095488   \n",
       "1 -1.226404  0.515518 -0.342157  ... -0.342473 -1.176212  0.086105  0.384531   \n",
       "2  0.875708 -1.104920  1.982005  ...  0.291083  0.572009 -0.335678 -0.294762   \n",
       "3  0.551128  0.397318  0.058905  ... -0.013020 -0.066398  0.066282  0.086308   \n",
       "4 -1.010017  1.161643 -0.583568  ... -0.593887 -0.863230 -0.052314  0.262547   \n",
       "\n",
       "        V25       V26       V27       V28  Amount  Class  \n",
       "0  0.822819 -0.329745  0.008197  0.013616    5.14      0  \n",
       "1  0.262804  0.130923 -0.076693  0.021486   74.95      0  \n",
       "2  0.470275 -0.077076 -0.023390 -0.131983    1.00      0  \n",
       "3  0.232199  0.008128 -0.075824 -0.070503   11.24      0  \n",
       "4 -0.036899  0.015596  0.260916 -0.236715    9.98      0  \n",
       "\n",
       "[5 rows x 32 columns]"
      ]
     },
     "execution_count": 12,
     "metadata": {},
     "output_type": "execute_result"
    }
   ],
   "source": [
    "df = pd.read_csv('creditcard.csv', low_memory=False)\n",
    "df = df.sample(frac=1).reset_index(drop=False)\n",
    "df.head()\n",
    "# df.describe()"
   ]
  },
  {
   "cell_type": "code",
   "execution_count": 13,
   "metadata": {
    "colab": {
     "base_uri": "https://localhost:8080/",
     "height": 51
    },
    "colab_type": "code",
    "id": "XbCC-81RWDRS",
    "outputId": "e8265e81-ce10-4649-a881-baddebc91387"
   },
   "outputs": [
    {
     "name": "stdout",
     "output_type": "stream",
     "text": [
      "492\n",
      "284315\n"
     ]
    }
   ],
   "source": [
    "fraud = df.loc[df['Class'] == 1]\n",
    "non_fraud = df.loc[df['Class'] == 0]\n",
    "print(len(fraud))\n",
    "print(len(non_fraud))"
   ]
  },
  {
   "cell_type": "code",
   "execution_count": 14,
   "metadata": {
    "colab": {
     "base_uri": "https://localhost:8080/",
     "height": 283
    },
    "colab_type": "code",
    "id": "GiRVJX6yWo-p",
    "outputId": "032634d9-3c45-480f-df60-07deb8c54071"
   },
   "outputs": [
    {
     "data": {
      "image/png": "[encoded data removed]",
      "text/plain": [
       "<Figure size 432x288 with 1 Axes>"
      ]
     },
     "metadata": {
      "needs_background": "light"
     },
     "output_type": "display_data"
    }
   ],
   "source": [
    "ax = fraud.plot.scatter(x='Amount', y='Class', color='Orange', label='Fraud')\n",
    "non_fraud.plot.scatter(x='Amount', y='Class', color='Blue', label='Normal', ax=ax)\n",
    "plt.show()"
   ]
  },
  {
   "cell_type": "code",
   "execution_count": 15,
   "metadata": {
    "colab": {},
    "colab_type": "code",
    "id": "OFZD2Rhman0O"
   },
   "outputs": [],
   "source": [
    "from sklearn import linear_model\n",
    "from sklearn.model_selection import train_test_split\n",
    "from sklearn.metrics import classification_report"
   ]
  },
  {
   "cell_type": "code",
   "execution_count": 16,
   "metadata": {
    "colab": {
     "base_uri": "https://localhost:8080/",
     "height": 51
    },
    "colab_type": "code",
    "id": "qNIbdXxva1g4",
    "outputId": "5a5c38a3-984d-4435-bc53-429be86a2b83"
   },
   "outputs": [
    {
     "name": "stdout",
     "output_type": "stream",
     "text": [
      "(284807, 31)\n",
      "(284807,)\n"
     ]
    }
   ],
   "source": [
    "x = df\n",
    "y = x.pop('Class')\n",
    "print(x.shape)\n",
    "print(y.shape)\n",
    "\n",
    "X_train, X_test, y_train, y_test = train_test_split(x, y, test_size=0.4)"
   ]
  },
  {
   "cell_type": "code",
   "execution_count": 17,
   "metadata": {
    "colab": {},
    "colab_type": "code",
    "id": "ZTdwEGlKnGVM"
   },
   "outputs": [],
   "source": [
    "# Scale\n",
    "scaler = StandardScaler()\n",
    "scaler.fit(X_train)  \n",
    "X_train = scaler.transform(X_train)  \n",
    "X_test = scaler.transform(X_test)"
   ]
  },
  {
   "cell_type": "code",
   "execution_count": 18,
   "metadata": {
    "colab": {
     "base_uri": "https://localhost:8080/",
     "height": 68
    },
    "colab_type": "code",
    "id": "-ci9pGg8bWwg",
    "outputId": "e3d3012e-d82b-4651-b99f-3b879c20ba11"
   },
   "outputs": [
    {
     "name": "stdout",
     "output_type": "stream",
     "text": [
      "Score: 0.9992\n"
     ]
    }
   ],
   "source": [
    "logistic = linear_model.LogisticRegression(C=1e5, solver='lbfgs')\n",
    "logistic.fit(X_train, y_train)\n",
    "print(f'Score: {logistic.score(X_test, y_test):.4f}')"
   ]
  },
  {
   "cell_type": "code",
   "execution_count": 19,
   "metadata": {
    "colab": {
     "base_uri": "https://localhost:8080/",
     "height": 187
    },
    "colab_type": "code",
    "id": "UN4nSqYLby-G",
    "outputId": "295b4538-8f07-447a-a052-e727b8cbf2bc"
   },
   "outputs": [
    {
     "name": "stdout",
     "output_type": "stream",
     "text": [
      "Frauds/Samples: 140/113923 (0.12 pct)\n",
      "              precision    recall  f1-score   support\n",
      "\n",
      "           0       1.00      1.00      1.00    113740\n",
      "           1       0.82      0.63      0.71       183\n",
      "\n",
      "    accuracy                           1.00    113923\n",
      "   macro avg       0.91      0.81      0.86    113923\n",
      "weighted avg       1.00      1.00      1.00    113923\n",
      "\n"
     ]
    }
   ],
   "source": [
    "y_predicted = np.array(logistic.predict(X_test))\n",
    "print(f'Frauds/Samples: {y_predicted.sum()}/{len(X_test)} ({y_predicted.sum()*100/len(X_test):.2f} pct)')\n",
    "print(classification_report(y_test, y_predicted))"
   ]
  }
 ],
 "metadata": {
  "colab": {
   "collapsed_sections": [],
   "name": "Fraud-detection-creditcard.ipynb",
   "provenance": [],
   "toc_visible": true,
   "version": "0.3.2"
  },
  "kernelspec": {
   "display_name": "Python 3",
   "language": "python",
   "name": "python3"
  },
  "language_info": {
   "codemirror_mode": {
    "name": "ipython",
    "version": 3
   },
   "file_extension": ".py",
   "mimetype": "text/x-python",
   "name": "python",
   "nbconvert_exporter": "python",
   "pygments_lexer": "ipython3",
   "version": "3.6.7"
  }
 },
 "nbformat": 4,
 "nbformat_minor": 1
}
